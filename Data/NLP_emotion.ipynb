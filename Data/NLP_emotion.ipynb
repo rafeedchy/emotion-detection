{
  "nbformat": 4,
  "nbformat_minor": 0,
  "metadata": {
    "colab": {
      "name": "NLP emotion.ipynb",
      "provenance": []
    },
    "kernelspec": {
      "name": "python3",
      "display_name": "Python 3"
    }
  },
  "cells": [
    {
      "cell_type": "code",
      "metadata": {
        "id": "YJ5_BZ0HqfXk"
      },
      "source": [
        "import pandas as pd\n",
        "import matplotlib.pyplot as plt\n",
        "import numpy as np\n",
        "import seaborn as sns"
      ],
      "execution_count": 2,
      "outputs": []
    },
    {
      "cell_type": "code",
      "metadata": {
        "id": "OX7M5tBorCZo"
      },
      "source": [
        "df_train = pd.read_csv(\"train.txt\", delimiter=';', header=None, names=['sentence','label'])"
      ],
      "execution_count": 3,
      "outputs": []
    },
    {
      "cell_type": "code",
      "metadata": {
        "colab": {
          "base_uri": "https://localhost:8080/",
          "height": 206
        },
        "id": "EsDktaEarIGy",
        "outputId": "0636432b-8b3c-4dbb-d4ad-2410b6984cd4"
      },
      "source": [
        "df_train.head()"
      ],
      "execution_count": 4,
      "outputs": [
        {
          "output_type": "execute_result",
          "data": {
            "text/html": [
              "<div>\n",
              "<style scoped>\n",
              "    .dataframe tbody tr th:only-of-type {\n",
              "        vertical-align: middle;\n",
              "    }\n",
              "\n",
              "    .dataframe tbody tr th {\n",
              "        vertical-align: top;\n",
              "    }\n",
              "\n",
              "    .dataframe thead th {\n",
              "        text-align: right;\n",
              "    }\n",
              "</style>\n",
              "<table border=\"1\" class=\"dataframe\">\n",
              "  <thead>\n",
              "    <tr style=\"text-align: right;\">\n",
              "      <th></th>\n",
              "      <th>sentence</th>\n",
              "      <th>label</th>\n",
              "    </tr>\n",
              "  </thead>\n",
              "  <tbody>\n",
              "    <tr>\n",
              "      <th>0</th>\n",
              "      <td>i didnt feel humiliated</td>\n",
              "      <td>sadness</td>\n",
              "    </tr>\n",
              "    <tr>\n",
              "      <th>1</th>\n",
              "      <td>i can go from feeling so hopeless to so damned...</td>\n",
              "      <td>sadness</td>\n",
              "    </tr>\n",
              "    <tr>\n",
              "      <th>2</th>\n",
              "      <td>im grabbing a minute to post i feel greedy wrong</td>\n",
              "      <td>anger</td>\n",
              "    </tr>\n",
              "    <tr>\n",
              "      <th>3</th>\n",
              "      <td>i am ever feeling nostalgic about the fireplac...</td>\n",
              "      <td>love</td>\n",
              "    </tr>\n",
              "    <tr>\n",
              "      <th>4</th>\n",
              "      <td>i am feeling grouchy</td>\n",
              "      <td>anger</td>\n",
              "    </tr>\n",
              "  </tbody>\n",
              "</table>\n",
              "</div>"
            ],
            "text/plain": [
              "                                            sentence    label\n",
              "0                            i didnt feel humiliated  sadness\n",
              "1  i can go from feeling so hopeless to so damned...  sadness\n",
              "2   im grabbing a minute to post i feel greedy wrong    anger\n",
              "3  i am ever feeling nostalgic about the fireplac...     love\n",
              "4                               i am feeling grouchy    anger"
            ]
          },
          "metadata": {
            "tags": []
          },
          "execution_count": 4
        }
      ]
    },
    {
      "cell_type": "code",
      "metadata": {
        "colab": {
          "base_uri": "https://localhost:8080/",
          "height": 351
        },
        "id": "9M7LArUhrLq2",
        "outputId": "516305c7-1175-4441-9fd0-1cb61def20fa"
      },
      "source": [
        "sns.countplot(df_train['label'])\n"
      ],
      "execution_count": 5,
      "outputs": [
        {
          "output_type": "stream",
          "text": [
            "/usr/local/lib/python3.7/dist-packages/seaborn/_decorators.py:43: FutureWarning: Pass the following variable as a keyword arg: x. From version 0.12, the only valid positional argument will be `data`, and passing other arguments without an explicit keyword will result in an error or misinterpretation.\n",
            "  FutureWarning\n"
          ],
          "name": "stderr"
        },
        {
          "output_type": "execute_result",
          "data": {
            "text/plain": [
              "<matplotlib.axes._subplots.AxesSubplot at 0x7fd41d85b150>"
            ]
          },
          "metadata": {
            "tags": []
          },
          "execution_count": 5
        },
        {
          "output_type": "display_data",
          "data": {
            "image/png": "[encoded data removed]",
            "text/plain": [
              "<Figure size 432x288 with 1 Axes>"
            ]
          },
          "metadata": {
            "tags": [],
            "needs_background": "light"
          }
        }
      ]
    },
    {
      "cell_type": "code",
      "metadata": {
        "colab": {
          "base_uri": "https://localhost:8080/"
        },
        "id": "AoF9HDCir6AP",
        "outputId": "a5ad8e50-d6ae-407d-f152-f5f769241e38"
      },
      "source": [
        "import nltk\n",
        "nltk.download('stopwords')"
      ],
      "execution_count": 6,
      "outputs": [
        {
          "output_type": "stream",
          "text": [
            "[nltk_data] Downloading package stopwords to /root/nltk_data...\n",
            "[nltk_data]   Unzipping corpora/stopwords.zip.\n"
          ],
          "name": "stdout"
        },
        {
          "output_type": "execute_result",
          "data": {
            "text/plain": [
              "True"
            ]
          },
          "metadata": {
            "tags": []
          },
          "execution_count": 6
        }
      ]
    },
    {
      "cell_type": "code",
      "metadata": {
        "id": "xAyjGceprSo_"
      },
      "source": [
        "from nltk.corpus import stopwords \n",
        "import string"
      ],
      "execution_count": 7,
      "outputs": []
    },
    {
      "cell_type": "code",
      "metadata": {
        "id": "9jGKJMSjrfQg"
      },
      "source": [
        "#important!!\n",
        "def text_process(mess):\n",
        "    \"\"\"\n",
        "    Takes in a string of text, then performs the following:\n",
        "    1. Remove all punctuation\n",
        "    2. Remove all stopwords\n",
        "    3. Returns a list of the cleaned text\n",
        "    \"\"\"\n",
        "    # Check characters to see if they are in punctuation\n",
        "    nopunc = [char for char in mess if char not in string.punctuation]\n",
        "\n",
        "    # Join the characters again to form the string.\n",
        "    nopunc = ''.join(nopunc)\n",
        "    \n",
        "    # Now just remove any stopwords\n",
        "    word_seq=[word for word in nopunc.split() if word.lower() not in stopwords.words('english')]\n",
        "    return word_seq"
      ],
      "execution_count": 8,
      "outputs": []
    },
    {
      "cell_type": "code",
      "metadata": {
        "colab": {
          "base_uri": "https://localhost:8080/"
        },
        "id": "ITPrFaqkrqcf",
        "outputId": "2e02fc07-9994-41a1-d4f5-8eeda73b65dc"
      },
      "source": [
        "text=df_train['sentence'].apply(text_process)\n",
        "text.head()"
      ],
      "execution_count": 9,
      "outputs": [
        {
          "output_type": "execute_result",
          "data": {
            "text/plain": [
              "0                            [didnt, feel, humiliated]\n",
              "1    [go, feeling, hopeless, damned, hopeful, aroun...\n",
              "2    [im, grabbing, minute, post, feel, greedy, wrong]\n",
              "3    [ever, feeling, nostalgic, fireplace, know, st...\n",
              "4                                   [feeling, grouchy]\n",
              "Name: sentence, dtype: object"
            ]
          },
          "metadata": {
            "tags": []
          },
          "execution_count": 9
        }
      ]
    },
    {
      "cell_type": "code",
      "metadata": {
        "colab": {
          "base_uri": "https://localhost:8080/",
          "height": 206
        },
        "id": "IKfoiL_9ruey",
        "outputId": "8ce5124f-8ea2-4ed9-b33f-dd09b72ea2f8"
      },
      "source": [
        "df_train.head()"
      ],
      "execution_count": 10,
      "outputs": [
        {
          "output_type": "execute_result",
          "data": {
            "text/html": [
              "<div>\n",
              "<style scoped>\n",
              "    .dataframe tbody tr th:only-of-type {\n",
              "        vertical-align: middle;\n",
              "    }\n",
              "\n",
              "    .dataframe tbody tr th {\n",
              "        vertical-align: top;\n",
              "    }\n",
              "\n",
              "    .dataframe thead th {\n",
              "        text-align: right;\n",
              "    }\n",
              "</style>\n",
              "<table border=\"1\" class=\"dataframe\">\n",
              "  <thead>\n",
              "    <tr style=\"text-align: right;\">\n",
              "      <th></th>\n",
              "      <th>sentence</th>\n",
              "      <th>label</th>\n",
              "    </tr>\n",
              "  </thead>\n",
              "  <tbody>\n",
              "    <tr>\n",
              "      <th>0</th>\n",
              "      <td>i didnt feel humiliated</td>\n",
              "      <td>sadness</td>\n",
              "    </tr>\n",
              "    <tr>\n",
              "      <th>1</th>\n",
              "      <td>i can go from feeling so hopeless to so damned...</td>\n",
              "      <td>sadness</td>\n",
              "    </tr>\n",
              "    <tr>\n",
              "      <th>2</th>\n",
              "      <td>im grabbing a minute to post i feel greedy wrong</td>\n",
              "      <td>anger</td>\n",
              "    </tr>\n",
              "    <tr>\n",
              "      <th>3</th>\n",
              "      <td>i am ever feeling nostalgic about the fireplac...</td>\n",
              "      <td>love</td>\n",
              "    </tr>\n",
              "    <tr>\n",
              "      <th>4</th>\n",
              "      <td>i am feeling grouchy</td>\n",
              "      <td>anger</td>\n",
              "    </tr>\n",
              "  </tbody>\n",
              "</table>\n",
              "</div>"
            ],
            "text/plain": [
              "                                            sentence    label\n",
              "0                            i didnt feel humiliated  sadness\n",
              "1  i can go from feeling so hopeless to so damned...  sadness\n",
              "2   im grabbing a minute to post i feel greedy wrong    anger\n",
              "3  i am ever feeling nostalgic about the fireplac...     love\n",
              "4                               i am feeling grouchy    anger"
            ]
          },
          "metadata": {
            "tags": []
          },
          "execution_count": 10
        }
      ]
    },
    {
      "cell_type": "code",
      "metadata": {
        "id": "tEgOZwkosPzG"
      },
      "source": [
        "from keras.preprocessing.text import Tokenizer\n",
        "from keras.preprocessing.sequence import pad_sequences"
      ],
      "execution_count": 11,
      "outputs": []
    },
    {
      "cell_type": "code",
      "metadata": {
        "id": "kq2rUVI-sgfn"
      },
      "source": [
        "max_len=100\n",
        "max_words=20000\n",
        "tokenizer=Tokenizer(num_words=max_words)\n",
        "tokenizer.fit_on_texts(text)\n",
        "sequences=tokenizer.texts_to_sequences(text)\n",
        "#sequences"
      ],
      "execution_count": 12,
      "outputs": []
    },
    {
      "cell_type": "code",
      "metadata": {
        "colab": {
          "base_uri": "https://localhost:8080/"
        },
        "id": "H2LTYcfUsuoJ",
        "outputId": "51b4674c-2764-4506-8756-efd0ed06a820"
      },
      "source": [
        "data=pad_sequences(sequences,maxlen=max_len)\n",
        "data"
      ],
      "execution_count": 13,
      "outputs": [
        {
          "output_type": "execute_result",
          "data": {
            "text/plain": [
              "array([[   0,    0,    0, ...,   49,    1,  562],\n",
              "       [   0,    0,    0, ...,   55, 1349, 1125],\n",
              "       [   0,    0,    0, ...,    1,  381,  326],\n",
              "       ...,\n",
              "       [   0,    0,    0, ...,  218,   32, 1201],\n",
              "       [   0,    0,    0, ..., 1106,    4,  230],\n",
              "       [   0,    0,    0, ...,    1,  175, 3444]], dtype=int32)"
            ]
          },
          "metadata": {
            "tags": []
          },
          "execution_count": 13
        }
      ]
    },
    {
      "cell_type": "code",
      "metadata": {
        "id": "a66E43DVs2xr"
      },
      "source": [
        "from sklearn.preprocessing import LabelEncoder\n",
        "from keras.utils import np_utils"
      ],
      "execution_count": 14,
      "outputs": []
    },
    {
      "cell_type": "code",
      "metadata": {
        "id": "zA-6_RxAtOF0"
      },
      "source": [
        "encode=LabelEncoder()"
      ],
      "execution_count": 15,
      "outputs": []
    },
    {
      "cell_type": "code",
      "metadata": {
        "colab": {
          "base_uri": "https://localhost:8080/"
        },
        "id": "s0ef3KEXtSwT",
        "outputId": "5f042914-e0f9-4f6c-b17c-16095a2a9fdb"
      },
      "source": [
        "y=encode.fit_transform(df_train['label'])\n",
        "y_data=np_utils.to_categorical(y)\n",
        "y_data.shape"
      ],
      "execution_count": 16,
      "outputs": [
        {
          "output_type": "execute_result",
          "data": {
            "text/plain": [
              "(16000, 6)"
            ]
          },
          "metadata": {
            "tags": []
          },
          "execution_count": 16
        }
      ]
    },
    {
      "cell_type": "code",
      "metadata": {
        "colab": {
          "base_uri": "https://localhost:8080/"
        },
        "id": "paGB-gfTtbzV",
        "outputId": "b7e38b9b-cadf-4f27-b860-f0853c79ea72"
      },
      "source": [
        "y_data"
      ],
      "execution_count": 17,
      "outputs": [
        {
          "output_type": "execute_result",
          "data": {
            "text/plain": [
              "array([[0., 0., 0., 0., 1., 0.],\n",
              "       [0., 0., 0., 0., 1., 0.],\n",
              "       [1., 0., 0., 0., 0., 0.],\n",
              "       ...,\n",
              "       [0., 0., 1., 0., 0., 0.],\n",
              "       [1., 0., 0., 0., 0., 0.],\n",
              "       [0., 0., 0., 0., 1., 0.]], dtype=float32)"
            ]
          },
          "metadata": {
            "tags": []
          },
          "execution_count": 17
        }
      ]
    },
    {
      "cell_type": "code",
      "metadata": {
        "colab": {
          "base_uri": "https://localhost:8080/"
        },
        "id": "jj-p0kxatvvj",
        "outputId": "e7fa277c-4f1b-47fb-bcad-be66f5bef595"
      },
      "source": [
        "len(data)\n",
        "len(y_data)\n",
        "\n",
        "#data is train x and y_data is train y"
      ],
      "execution_count": 18,
      "outputs": [
        {
          "output_type": "execute_result",
          "data": {
            "text/plain": [
              "16000"
            ]
          },
          "metadata": {
            "tags": []
          },
          "execution_count": 18
        }
      ]
    },
    {
      "cell_type": "code",
      "metadata": {
        "id": "Y8bnkx8St7YX"
      },
      "source": [
        "x_train = data[:13000]\n",
        "y_train = y_data[:13000]\n",
        "x_val = data[13000:]\n",
        "y_val = y_data[13000:]"
      ],
      "execution_count": 19,
      "outputs": []
    },
    {
      "cell_type": "code",
      "metadata": {
        "id": "dpX7AjsWuL-y"
      },
      "source": [
        "from tensorflow.keras.models import Sequential\n",
        "from tensorflow.keras.layers import Embedding,Dropout,Dense,Bidirectional,LSTM\n",
        "from tensorflow.keras.callbacks import EarlyStopping"
      ],
      "execution_count": 20,
      "outputs": []
    },
    {
      "cell_type": "code",
      "metadata": {
        "colab": {
          "base_uri": "https://localhost:8080/"
        },
        "id": "AC_1Csamuozn",
        "outputId": "95a7c93b-0934-4662-9f76-dc1297aa4c7b"
      },
      "source": [
        "y_data.shape[1]"
      ],
      "execution_count": 21,
      "outputs": [
        {
          "output_type": "execute_result",
          "data": {
            "text/plain": [
              "6"
            ]
          },
          "metadata": {
            "tags": []
          },
          "execution_count": 21
        }
      ]
    },
    {
      "cell_type": "code",
      "metadata": {
        "id": "zpABGWSnuTaE"
      },
      "source": [
        "#model building\n",
        "model=Sequential()\n",
        "model.add(Embedding(max_words,64,input_length=max_len))\n",
        "model.add(Bidirectional(LSTM(100)))\n",
        "model.add(Dropout(0.5))\n",
        "model.add(Dense(32,activation='relu'))\n",
        "model.add(Dense(y_data.shape[1],activation='softmax'))\n",
        "model.compile(optimizer='adam',loss='categorical_crossentropy',metrics=['accuracy'])"
      ],
      "execution_count": 22,
      "outputs": []
    },
    {
      "cell_type": "code",
      "metadata": {
        "colab": {
          "base_uri": "https://localhost:8080/"
        },
        "id": "0cv22AB7urvC",
        "outputId": "558a1051-9f53-4af4-b758-d65bd636f902"
      },
      "source": [
        "model.summary()"
      ],
      "execution_count": 23,
      "outputs": [
        {
          "output_type": "stream",
          "text": [
            "Model: \"sequential\"\n",
            "_________________________________________________________________\n",
            "Layer (type)                 Output Shape              Param #   \n",
            "=================================================================\n",
            "embedding (Embedding)        (None, 100, 64)           1280000   \n",
            "_________________________________________________________________\n",
            "bidirectional (Bidirectional (None, 200)               132000    \n",
            "_________________________________________________________________\n",
            "dropout (Dropout)            (None, 200)               0         \n",
            "_________________________________________________________________\n",
            "dense (Dense)                (None, 32)                6432      \n",
            "_________________________________________________________________\n",
            "dense_1 (Dense)              (None, 6)                 198       \n",
            "=================================================================\n",
            "Total params: 1,418,630\n",
            "Trainable params: 1,418,630\n",
            "Non-trainable params: 0\n",
            "_________________________________________________________________\n"
          ],
          "name": "stdout"
        }
      ]
    },
    {
      "cell_type": "code",
      "metadata": {
        "id": "sE60702Gu7zO"
      },
      "source": [
        "es=EarlyStopping(monitor='val_loss')"
      ],
      "execution_count": 24,
      "outputs": []
    },
    {
      "cell_type": "code",
      "metadata": {
        "colab": {
          "base_uri": "https://localhost:8080/"
        },
        "id": "tILLiuWFvDpd",
        "outputId": "65e0b581-54cc-469b-c7d3-c8333509009a"
      },
      "source": [
        "predictions=model.fit(x_train,y_train,validation_data=(x_val,y_val),epochs=3,callbacks=[es])"
      ],
      "execution_count": 27,
      "outputs": [
        {
          "output_type": "stream",
          "text": [
            "Epoch 1/3\n",
            "407/407 [==============================] - 65s 160ms/step - loss: 0.2739 - accuracy: 0.9102 - val_loss: 0.3272 - val_accuracy: 0.8927\n"
          ],
          "name": "stdout"
        }
      ]
    },
    {
      "cell_type": "code",
      "metadata": {
        "colab": {
          "base_uri": "https://localhost:8080/",
          "height": 283
        },
        "id": "M7neFAmuvKg9",
        "outputId": "d1c7ab21-fafd-4543-c31f-40b2d920ae5c"
      },
      "source": [
        "losses=pd.DataFrame(model.history.history)\n",
        "losses.plot()"
      ],
      "execution_count": 29,
      "outputs": [
        {
          "output_type": "execute_result",
          "data": {
            "text/plain": [
              "<matplotlib.axes._subplots.AxesSubplot at 0x7fd3ba2098d0>"
            ]
          },
          "metadata": {
            "tags": []
          },
          "execution_count": 29
        },
        {
          "output_type": "display_data",
          "data": {
            "image/png": "[encoded data removed]",
            "text/plain": [
              "<Figure size 432x288 with 1 Axes>"
            ]
          },
          "metadata": {
            "tags": [],
            "needs_background": "light"
          }
        }
      ]
    },
    {
      "cell_type": "code",
      "metadata": {
        "id": "db6rEXZ9xmJh"
      },
      "source": [
        "#testing data\n",
        "df_test= pd.read_csv(\"test.txt\", delimiter=';', header=None, names=['sentence','label'])"
      ],
      "execution_count": 30,
      "outputs": []
    },
    {
      "cell_type": "code",
      "metadata": {
        "colab": {
          "base_uri": "https://localhost:8080/",
          "height": 206
        },
        "id": "plAnquXOyB3V",
        "outputId": "af17a0cd-b0b5-4337-c8b8-fdd1d6985674"
      },
      "source": [
        "df_test.head()"
      ],
      "execution_count": 31,
      "outputs": [
        {
          "output_type": "execute_result",
          "data": {
            "text/html": [
              "<div>\n",
              "<style scoped>\n",
              "    .dataframe tbody tr th:only-of-type {\n",
              "        vertical-align: middle;\n",
              "    }\n",
              "\n",
              "    .dataframe tbody tr th {\n",
              "        vertical-align: top;\n",
              "    }\n",
              "\n",
              "    .dataframe thead th {\n",
              "        text-align: right;\n",
              "    }\n",
              "</style>\n",
              "<table border=\"1\" class=\"dataframe\">\n",
              "  <thead>\n",
              "    <tr style=\"text-align: right;\">\n",
              "      <th></th>\n",
              "      <th>sentence</th>\n",
              "      <th>label</th>\n",
              "    </tr>\n",
              "  </thead>\n",
              "  <tbody>\n",
              "    <tr>\n",
              "      <th>0</th>\n",
              "      <td>im feeling rather rotten so im not very ambiti...</td>\n",
              "      <td>sadness</td>\n",
              "    </tr>\n",
              "    <tr>\n",
              "      <th>1</th>\n",
              "      <td>im updating my blog because i feel shitty</td>\n",
              "      <td>sadness</td>\n",
              "    </tr>\n",
              "    <tr>\n",
              "      <th>2</th>\n",
              "      <td>i never make her separate from me because i do...</td>\n",
              "      <td>sadness</td>\n",
              "    </tr>\n",
              "    <tr>\n",
              "      <th>3</th>\n",
              "      <td>i left with my bouquet of red and yellow tulip...</td>\n",
              "      <td>joy</td>\n",
              "    </tr>\n",
              "    <tr>\n",
              "      <th>4</th>\n",
              "      <td>i was feeling a little vain when i did this one</td>\n",
              "      <td>sadness</td>\n",
              "    </tr>\n",
              "  </tbody>\n",
              "</table>\n",
              "</div>"
            ],
            "text/plain": [
              "                                            sentence    label\n",
              "0  im feeling rather rotten so im not very ambiti...  sadness\n",
              "1          im updating my blog because i feel shitty  sadness\n",
              "2  i never make her separate from me because i do...  sadness\n",
              "3  i left with my bouquet of red and yellow tulip...      joy\n",
              "4    i was feeling a little vain when i did this one  sadness"
            ]
          },
          "metadata": {
            "tags": []
          },
          "execution_count": 31
        }
      ]
    },
    {
      "cell_type": "code",
      "metadata": {
        "id": "vV3ZjILXyHKa"
      },
      "source": [
        "testing_text=df_test['sentence'].apply(text_process)"
      ],
      "execution_count": 32,
      "outputs": []
    },
    {
      "cell_type": "code",
      "metadata": {
        "colab": {
          "base_uri": "https://localhost:8080/"
        },
        "id": "AS_KxL9iyTaT",
        "outputId": "4dd239b5-5797-4982-b5a8-0353441b11f1"
      },
      "source": [
        "len(testing_text)"
      ],
      "execution_count": 33,
      "outputs": [
        {
          "output_type": "execute_result",
          "data": {
            "text/plain": [
              "2000"
            ]
          },
          "metadata": {
            "tags": []
          },
          "execution_count": 33
        }
      ]
    },
    {
      "cell_type": "code",
      "metadata": {
        "colab": {
          "base_uri": "https://localhost:8080/"
        },
        "id": "_veloFtRyWmw",
        "outputId": "39c8a800-2f5d-4e53-d12f-3ddf613ad469"
      },
      "source": [
        "#encoding test side\n",
        "tokenizer=Tokenizer(num_words=max_words)\n",
        "tokenizer.fit_on_texts(testing_text)\n",
        "test_sequences=tokenizer.texts_to_sequences(testing_text)\n",
        "test_data=pad_sequences(test_sequences,maxlen=max_len)\n",
        "testing_labels=encode.fit_transform(df_test['label'])\n",
        "testing_labels=np_utils.to_categorical(testing_labels)\n",
        "testing_labels.shape"
      ],
      "execution_count": 34,
      "outputs": [
        {
          "output_type": "execute_result",
          "data": {
            "text/plain": [
              "(2000, 6)"
            ]
          },
          "metadata": {
            "tags": []
          },
          "execution_count": 34
        }
      ]
    },
    {
      "cell_type": "code",
      "metadata": {
        "colab": {
          "base_uri": "https://localhost:8080/"
        },
        "id": "ZPby4UjPyhF3",
        "outputId": "eec97063-ca8b-42e8-c932-81f1bfad463e"
      },
      "source": [
        "test_predictions=model.fit(test_data,testing_labels,epochs=30,callbacks=[es])"
      ],
      "execution_count": null,
      "outputs": [
        {
          "output_type": "stream",
          "text": [
            "Epoch 1/30\n",
            "63/63 [==============================] - ETA: 0s - loss: 1.9361 - accuracy: 0.3190WARNING:tensorflow:Early stopping conditioned on metric `val_loss` which is not available. Available metrics are: loss,accuracy\n",
            "63/63 [==============================] - 9s 139ms/step - loss: 1.9361 - accuracy: 0.3190\n",
            "Epoch 2/30\n",
            "63/63 [==============================] - ETA: 0s - loss: 1.5407 - accuracy: 0.3855WARNING:tensorflow:Early stopping conditioned on metric `val_loss` which is not available. Available metrics are: loss,accuracy\n",
            "63/63 [==============================] - 9s 138ms/step - loss: 1.5407 - accuracy: 0.3855\n",
            "Epoch 3/30\n",
            "63/63 [==============================] - ETA: 0s - loss: 1.4923 - accuracy: 0.4070WARNING:tensorflow:Early stopping conditioned on metric `val_loss` which is not available. Available metrics are: loss,accuracy\n",
            "63/63 [==============================] - 9s 138ms/step - loss: 1.4923 - accuracy: 0.4070\n",
            "Epoch 4/30\n",
            "63/63 [==============================] - ETA: 0s - loss: 1.3653 - accuracy: 0.4790WARNING:tensorflow:Early stopping conditioned on metric `val_loss` which is not available. Available metrics are: loss,accuracy\n",
            "63/63 [==============================] - 9s 138ms/step - loss: 1.3653 - accuracy: 0.4790\n",
            "Epoch 5/30\n",
            "63/63 [==============================] - ETA: 0s - loss: 1.1111 - accuracy: 0.5850WARNING:tensorflow:Early stopping conditioned on metric `val_loss` which is not available. Available metrics are: loss,accuracy\n",
            "63/63 [==============================] - 9s 141ms/step - loss: 1.1111 - accuracy: 0.5850\n",
            "Epoch 6/30\n",
            "63/63 [==============================] - ETA: 0s - loss: 0.7842 - accuracy: 0.7230WARNING:tensorflow:Early stopping conditioned on metric `val_loss` which is not available. Available metrics are: loss,accuracy\n",
            "63/63 [==============================] - 9s 138ms/step - loss: 0.7842 - accuracy: 0.7230\n",
            "Epoch 7/30\n",
            "63/63 [==============================] - ETA: 0s - loss: 0.4682 - accuracy: 0.8510WARNING:tensorflow:Early stopping conditioned on metric `val_loss` which is not available. Available metrics are: loss,accuracy\n",
            "63/63 [==============================] - 9s 140ms/step - loss: 0.4682 - accuracy: 0.8510\n",
            "Epoch 8/30\n",
            "63/63 [==============================] - ETA: 0s - loss: 0.2610 - accuracy: 0.9210WARNING:tensorflow:Early stopping conditioned on metric `val_loss` which is not available. Available metrics are: loss,accuracy\n",
            "63/63 [==============================] - 9s 139ms/step - loss: 0.2610 - accuracy: 0.9210\n",
            "Epoch 9/30\n",
            "63/63 [==============================] - ETA: 0s - loss: 0.1596 - accuracy: 0.9560WARNING:tensorflow:Early stopping conditioned on metric `val_loss` which is not available. Available metrics are: loss,accuracy\n",
            "63/63 [==============================] - 9s 141ms/step - loss: 0.1596 - accuracy: 0.9560\n",
            "Epoch 10/30\n",
            "63/63 [==============================] - ETA: 0s - loss: 0.0892 - accuracy: 0.9745WARNING:tensorflow:Early stopping conditioned on metric `val_loss` which is not available. Available metrics are: loss,accuracy\n",
            "63/63 [==============================] - 9s 141ms/step - loss: 0.0892 - accuracy: 0.9745\n",
            "Epoch 11/30\n",
            "63/63 [==============================] - ETA: 0s - loss: 0.0538 - accuracy: 0.9865WARNING:tensorflow:Early stopping conditioned on metric `val_loss` which is not available. Available metrics are: loss,accuracy\n",
            "63/63 [==============================] - 9s 141ms/step - loss: 0.0538 - accuracy: 0.9865\n",
            "Epoch 12/30\n",
            "63/63 [==============================] - ETA: 0s - loss: 0.0392 - accuracy: 0.9900WARNING:tensorflow:Early stopping conditioned on metric `val_loss` which is not available. Available metrics are: loss,accuracy\n",
            "63/63 [==============================] - 9s 140ms/step - loss: 0.0392 - accuracy: 0.9900\n",
            "Epoch 13/30\n",
            "63/63 [==============================] - ETA: 0s - loss: 0.0233 - accuracy: 0.9955WARNING:tensorflow:Early stopping conditioned on metric `val_loss` which is not available. Available metrics are: loss,accuracy\n",
            "63/63 [==============================] - 9s 144ms/step - loss: 0.0233 - accuracy: 0.9955\n",
            "Epoch 14/30\n",
            "63/63 [==============================] - ETA: 0s - loss: 0.0215 - accuracy: 0.9955WARNING:tensorflow:Early stopping conditioned on metric `val_loss` which is not available. Available metrics are: loss,accuracy\n",
            "63/63 [==============================] - 9s 141ms/step - loss: 0.0215 - accuracy: 0.9955\n",
            "Epoch 15/30\n",
            "63/63 [==============================] - ETA: 0s - loss: 0.0152 - accuracy: 0.9965WARNING:tensorflow:Early stopping conditioned on metric `val_loss` which is not available. Available metrics are: loss,accuracy\n",
            "63/63 [==============================] - 9s 142ms/step - loss: 0.0152 - accuracy: 0.9965\n",
            "Epoch 16/30\n",
            "63/63 [==============================] - ETA: 0s - loss: 0.0095 - accuracy: 0.9980WARNING:tensorflow:Early stopping conditioned on metric `val_loss` which is not available. Available metrics are: loss,accuracy\n",
            "63/63 [==============================] - 9s 141ms/step - loss: 0.0095 - accuracy: 0.9980\n",
            "Epoch 17/30\n",
            "63/63 [==============================] - ETA: 0s - loss: 0.0126 - accuracy: 0.9985WARNING:tensorflow:Early stopping conditioned on metric `val_loss` which is not available. Available metrics are: loss,accuracy\n",
            "63/63 [==============================] - 9s 141ms/step - loss: 0.0126 - accuracy: 0.9985\n",
            "Epoch 18/30\n",
            "63/63 [==============================] - ETA: 0s - loss: 0.0105 - accuracy: 0.9970WARNING:tensorflow:Early stopping conditioned on metric `val_loss` which is not available. Available metrics are: loss,accuracy\n",
            "63/63 [==============================] - 9s 142ms/step - loss: 0.0105 - accuracy: 0.9970\n",
            "Epoch 19/30\n",
            "63/63 [==============================] - ETA: 0s - loss: 0.0079 - accuracy: 0.9985WARNING:tensorflow:Early stopping conditioned on metric `val_loss` which is not available. Available metrics are: loss,accuracy\n",
            "63/63 [==============================] - 9s 143ms/step - loss: 0.0079 - accuracy: 0.9985\n",
            "Epoch 20/30\n",
            "63/63 [==============================] - ETA: 0s - loss: 0.0079 - accuracy: 0.9985WARNING:tensorflow:Early stopping conditioned on metric `val_loss` which is not available. Available metrics are: loss,accuracy\n",
            "63/63 [==============================] - 9s 141ms/step - loss: 0.0079 - accuracy: 0.9985\n",
            "Epoch 21/30\n",
            "63/63 [==============================] - ETA: 0s - loss: 0.0066 - accuracy: 0.9980WARNING:tensorflow:Early stopping conditioned on metric `val_loss` which is not available. Available metrics are: loss,accuracy\n",
            "63/63 [==============================] - 9s 142ms/step - loss: 0.0066 - accuracy: 0.9980\n",
            "Epoch 22/30\n",
            "63/63 [==============================] - ETA: 0s - loss: 0.0038 - accuracy: 0.9990WARNING:tensorflow:Early stopping conditioned on metric `val_loss` which is not available. Available metrics are: loss,accuracy\n",
            "63/63 [==============================] - 9s 143ms/step - loss: 0.0038 - accuracy: 0.9990\n",
            "Epoch 23/30\n",
            "63/63 [==============================] - ETA: 0s - loss: 0.0033 - accuracy: 0.9995WARNING:tensorflow:Early stopping conditioned on metric `val_loss` which is not available. Available metrics are: loss,accuracy\n",
            "63/63 [==============================] - 9s 142ms/step - loss: 0.0033 - accuracy: 0.9995\n",
            "Epoch 24/30\n",
            "63/63 [==============================] - ETA: 0s - loss: 0.0049 - accuracy: 0.9990WARNING:tensorflow:Early stopping conditioned on metric `val_loss` which is not available. Available metrics are: loss,accuracy\n",
            "63/63 [==============================] - 9s 141ms/step - loss: 0.0049 - accuracy: 0.9990\n",
            "Epoch 25/30\n",
            "63/63 [==============================] - ETA: 0s - loss: 0.0039 - accuracy: 0.9990WARNING:tensorflow:Early stopping conditioned on metric `val_loss` which is not available. Available metrics are: loss,accuracy\n",
            "63/63 [==============================] - 9s 141ms/step - loss: 0.0039 - accuracy: 0.9990\n",
            "Epoch 26/30\n",
            "63/63 [==============================] - ETA: 0s - loss: 0.0025 - accuracy: 1.0000WARNING:tensorflow:Early stopping conditioned on metric `val_loss` which is not available. Available metrics are: loss,accuracy\n",
            "63/63 [==============================] - 9s 142ms/step - loss: 0.0025 - accuracy: 1.0000\n",
            "Epoch 27/30\n",
            "63/63 [==============================] - ETA: 0s - loss: 0.0023 - accuracy: 1.0000WARNING:tensorflow:Early stopping conditioned on metric `val_loss` which is not available. Available metrics are: loss,accuracy\n",
            "63/63 [==============================] - 9s 145ms/step - loss: 0.0023 - accuracy: 1.0000\n",
            "Epoch 28/30\n",
            "63/63 [==============================] - ETA: 0s - loss: 0.0031 - accuracy: 0.9990WARNING:tensorflow:Early stopping conditioned on metric `val_loss` which is not available. Available metrics are: loss,accuracy\n",
            "63/63 [==============================] - 9s 140ms/step - loss: 0.0031 - accuracy: 0.9990\n",
            "Epoch 29/30\n",
            "63/63 [==============================] - ETA: 0s - loss: 0.0126 - accuracy: 0.9985WARNING:tensorflow:Early stopping conditioned on metric `val_loss` which is not available. Available metrics are: loss,accuracy\n",
            "63/63 [==============================] - 9s 140ms/step - loss: 0.0126 - accuracy: 0.9985\n",
            "Epoch 30/30\n",
            "63/63 [==============================] - ETA: 0s - loss: 0.0074 - accuracy: 0.9990WARNING:tensorflow:Early stopping conditioned on metric `val_loss` which is not available. Available metrics are: loss,accuracy\n",
            "63/63 [==============================] - 9s 140ms/step - loss: 0.0074 - accuracy: 0.9990\n"
          ],
          "name": "stdout"
        }
      ]
    },
    {
      "cell_type": "code",
      "metadata": {
        "colab": {
          "base_uri": "https://localhost:8080/"
        },
        "id": "FJ-Ynm43y0nP",
        "outputId": "72376d30-98be-4a8c-ed82-04282e970591"
      },
      "source": [
        "encode.classes_"
      ],
      "execution_count": null,
      "outputs": [
        {
          "output_type": "execute_result",
          "data": {
            "text/plain": [
              "array(['anger', 'fear', 'joy', 'love', 'sadness', 'surprise'],\n",
              "      dtype=object)"
            ]
          },
          "metadata": {
            "tags": []
          },
          "execution_count": 44
        }
      ]
    },
    {
      "cell_type": "code",
      "metadata": {
        "id": "rVhD04yD0I6k"
      },
      "source": [
        ""
      ],
      "execution_count": null,
      "outputs": []
    }
  ]
}